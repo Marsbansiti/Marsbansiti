{
 "cells": [
  {
   "cell_type": "code",
   "execution_count": null,
   "metadata": {},
   "outputs": [],
   "source": [
    "# Databricks notebook source\n",
    "storage_account_name = \"auhealthexpnd23dl\"\n",
    "client_id            = dbutils.secrets.get(scope=\"au-health-expnd-scope\", key=\"au-health-expnd-app-client-id\")\n",
    "tenant_id            = dbutils.secrets.get(scope=\"au-health-expnd-scope\", key=\"au-health-expnd-app-tenant-id\")\n",
    "client_secret        = dbutils.secrets.get(scope=\"au-health-expnd-scope\", key=\"au-health-expnd-app-client-secret\")"
   ]
  },
  {
   "cell_type": "code",
   "execution_count": null,
   "metadata": {},
   "outputs": [],
   "source": [
    "configs = {\"fs.azure.account.auth.type\": \"OAuth\",\n",
    "           \"fs.azure.account.oauth.provider.type\": \"org.apache.hadoop.fs.azurebfs.oauth2.ClientCredsTokenProvider\",\n",
    "           \"fs.azure.account.oauth2.client.id\": f\"{client_id}\",\n",
    "           \"fs.azure.account.oauth2.client.secret\": f\"{client_secret}\",\n",
    "           \"fs.azure.account.oauth2.client.endpoint\": f\"https://login.microsoftonline.com/{tenant_id}/oauth2/token\"}"
   ]
  },
  {
   "cell_type": "code",
   "execution_count": null,
   "metadata": {},
   "outputs": [],
   "source": [
    "def mount_adls(container_name):\n",
    "  dbutils.fs.mount(\n",
    "    source = f\"abfss://{container_name}@{storage_account_name}.dfs.core.windows.net/\",\n",
    "    mount_point = f\"/mnt/{storage_account_name}/{container_name}\",\n",
    "    extra_configs = configs)"
   ]
  },
  {
   "cell_type": "code",
   "execution_count": null,
   "metadata": {},
   "outputs": [],
   "source": [
    "mount_adls(\"raw\")"
   ]
  },
  {
   "cell_type": "code",
   "execution_count": null,
   "metadata": {},
   "outputs": [],
   "source": [
    "mount_adls(\"processed\")"
   ]
  },
  {
   "cell_type": "code",
   "execution_count": null,
   "metadata": {},
   "outputs": [],
   "source": [
    "mount_adls(\"presentation\")"
   ]
  },
  {
   "cell_type": "code",
   "execution_count": null,
   "metadata": {},
   "outputs": [],
   "source": [
    "# test: list mounts\n",
    "display( dbutils.fs.mounts() )"
   ]
  },
  {
   "cell_type": "code",
   "execution_count": null,
   "metadata": {},
   "outputs": [],
   "source": [
    "dbutils.fs.ls(\"/mnt/auhealthexpnd23dl/raw\")"
   ]
  },
  {
   "cell_type": "code",
   "execution_count": null,
   "metadata": {},
   "outputs": [],
   "source": [
    "dbutils.fs.ls(\"/mnt/auhealthexpnd23dl/processed\")"
   ]
  },
  {
   "cell_type": "code",
   "execution_count": null,
   "metadata": {},
   "outputs": [],
   "source": [
    "dbutils.fs.ls(\"/mnt/auhealthexpnd23dl/presentation\")"
   ]
  }
 ],
 "metadata": {
  "language_info": {
   "name": "python"
  }
 },
 "nbformat": 4,
 "nbformat_minor": 2
}
