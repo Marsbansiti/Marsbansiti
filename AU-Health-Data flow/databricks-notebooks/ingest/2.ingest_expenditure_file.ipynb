{
 "cells": [
  {
   "cell_type": "code",
   "execution_count": 73,
   "metadata": {},
   "outputs": [],
   "source": [
    "# Include shared notebooks\n",
    "%run \"../includes/configuration.ipynb\""
   ]
  },
  {
   "cell_type": "code",
   "execution_count": null,
   "metadata": {},
   "outputs": [],
   "source": [
    "%run \"../includes/common_functions.ipynb\""
   ]
  },
  {
   "cell_type": "code",
   "execution_count": 5,
   "metadata": {},
   "outputs": [],
   "source": [
    "#### Step 0. explore data initially\n",
    "### TODO: change the file path\n",
    "expnd_df = df = spark.read.csv(\"/mnt/auhealthexpnd23dl/raw/au_health_expnd.csv\", header=True, inferSchema=True)\n",
    "expnd_df.show()"
   ]
  },
  {
   "cell_type": "code",
   "execution_count": 67,
   "metadata": {},
   "outputs": [],
   "source": [
    "#### Step 1. Define file schema and read file\n",
    "# will failed if the input file does not follow the defined schema. To prevent populating corrupted data\n",
    "\n",
    "from pyspark.sql.types import StructType, StructField, DoubleType, StringType, DecimalType\n",
    "\n",
    "expenditure_schema = StructType(fields=[StructField(\"Year\", StringType(), False),\n",
    "                                    StructField(\"Jurisdiction\", StringType(), False),\n",
    "                                    StructField(\"Sector\", StringType(), False),\n",
    "                                    StructField(\"Area of expenditure\", StringType(), False),\n",
    "                                    StructField(\"Broad source of funds\", StringType(), False),\n",
    "                                    StructField(\"Source of funds\", StringType(), False),\n",
    "                                    StructField(\"Current amount ($)\", DecimalType(20,2), False),\n",
    "                                    StructField(\"Constant amount ($)\", DecimalType(20,2), False)\n",
    "                                    ])\n",
    "\n",
    "### TODO: change the file path\n",
    "expenditure_df = spark.read.schema(expenditure_schema) \\\n",
    "    .option(\"header\", True) \\\n",
    "    .csv(\"/mnt/auhealthexpnd23dl/raw/au_health_expnd.csv\")"
   ]
  },
  {
   "cell_type": "code",
   "execution_count": 68,
   "metadata": {},
   "outputs": [
    {
     "name": "stdout",
     "output_type": "stream",
     "text": [
      "+-------+------------+--------------------+--------------------+---------------------+--------------------+------------------+-------------------+\n",
      "|   Year|Jurisdiction|              Sector| Area of expenditure|Broad source of funds|     Source of funds|Current amount ($)|Constant amount ($)|\n",
      "+-------+------------+--------------------+--------------------+---------------------+--------------------+------------------+-------------------+\n",
      "|2011-12|         ACT| Capital expenditure| Capital expenditure| Australian Govern...|     DoHAC and other|        7845557.56|         7405237.78|\n",
      "|2011-12|         ACT| Capital expenditure| Capital expenditure|       Non-government|Other source of f...|       25878223.51|        29469301.22|\n",
      "|2011-12|         ACT| Capital expenditure| Capital expenditure| State and local g...|State and local g...|      174000000.00|       195754403.88|\n",
      "|2011-12|         ACT|           Hospitals|   Private hospitals| Australian Govern...|Department of Vet...|       28413710.10|        34894604.09|\n",
      "|2011-12|         ACT|           Hospitals|   Private hospitals| Australian Govern...|     DoHAC and other|        2329108.03|         2853160.18|\n",
      "|2011-12|         ACT|           Hospitals|   Private hospitals| Australian Govern...|     Premium rebates|       33089182.56|        40636506.85|\n",
      "|2011-12|         ACT|           Hospitals|   Private hospitals|       Non-government|Health insurance ...|       64370521.03|        79052817.75|\n",
      "|2011-12|         ACT|           Hospitals|   Private hospitals|       Non-government|         Individuals|       14565797.10|        17888115.33|\n",
      "|2011-12|         ACT|           Hospitals|   Private hospitals|       Non-government|Other source of f...|        8986949.88|        11043114.14|\n",
      "|2011-12|         ACT|           Hospitals|   Private hospitals| State and local g...|State and local g...|        4734000.00|         5813779.87|\n",
      "|2011-12|         ACT|           Hospitals|Public hospital s...| Australian Govern...|Department of Vet...|       22881192.17|        28100172.03|\n",
      "|2011-12|         ACT|           Hospitals|Public hospital s...| Australian Govern...|     DoHAC and other|      228958987.12|       281109725.05|\n",
      "|2011-12|         ACT|           Hospitals|Public hospital s...| Australian Govern...|     Premium rebates|        4022231.50|         4939663.82|\n",
      "|2011-12|         ACT|           Hospitals|Public hospital s...|       Non-government|Health insurance ...|        7824706.37|         9609446.63|\n",
      "|2011-12|         ACT|           Hospitals|Public hospital s...|       Non-government|         Individuals|        2833000.00|         3479180.05|\n",
      "|2011-12|         ACT|           Hospitals|Public hospital s...|       Non-government|Other source of f...|        9122929.19|        11203781.59|\n",
      "|2011-12|         ACT|           Hospitals|Public hospital s...| State and local g...|State and local g...|      638039565.85|       783421689.97|\n",
      "|2011-12|         ACT|Medical expenses ...|Medical expenses ...| Australian Govern...|     DoHAC and other|        2313653.15|         3000706.41|\n",
      "|2011-12|         ACT|Medical expenses ...|Medical expenses ...|       Non-government|         Individuals|       -2313653.15|        -3000706.41|\n",
      "|2011-12|         ACT|      Other services|      Administration| Australian Govern...|Department of Vet...|       42825857.26|        55543253.88|\n",
      "+-------+------------+--------------------+--------------------+---------------------+--------------------+------------------+-------------------+\n",
      "only showing top 20 rows\n",
      "\n"
     ]
    }
   ],
   "source": [
    "expenditure_df.show()"
   ]
  },
  {
   "cell_type": "code",
   "execution_count": 76,
   "metadata": {},
   "outputs": [],
   "source": [
    "#### Step 2. Rename columns\n",
    "expnd_renamed_df = expenditure_df.withColumnRenamed(\"Year\", \"year\")\\\n",
    "                        .withColumnRenamed(\"Jurisdiction\", \"jurisdiction\")\\\n",
    "                        .withColumnRenamed(\"Sector\", \"sector\")\\\n",
    "                        .withColumnRenamed(\"Area of expenditure\", \"area_of_expenditure\")\\\n",
    "                        .withColumnRenamed(\"Broad source of funds\", \"broad_source_of_funds\")\\\n",
    "                        .withColumnRenamed(\"Source of funds\", \"source_of_funds\")\\\n",
    "                        .withColumnRenamed(\"Current amount ($)\", \"current_amount\")\\\n",
    "                        .withColumnRenamed(\"Constant amount ($)\", \"constant_amount\")"
   ]
  },
  {
   "cell_type": "code",
   "execution_count": 77,
   "metadata": {},
   "outputs": [
    {
     "name": "stdout",
     "output_type": "stream",
     "text": [
      "+-------+------------+--------------------+--------------------+---------------------+--------------------+--------------+---------------+------+--------------------+\n",
      "|   year|jurisdiction|              sector| area_of_expenditure|broad_source_of_funds|     source_of_funds|current_amount|constant_amount|  eofy|      ingestion_date|\n",
      "+-------+------------+--------------------+--------------------+---------------------+--------------------+--------------+---------------+------+--------------------+\n",
      "|2011-12|         ACT| Capital expenditure| Capital expenditure| Australian Govern...|     DoHAC and other|    7845557.56|     7405237.78|Jun-12|2023-10-31 15:33:...|\n",
      "|2011-12|         ACT| Capital expenditure| Capital expenditure|       Non-government|Other source of f...|   25878223.51|    29469301.22|Jun-12|2023-10-31 15:33:...|\n",
      "|2011-12|         ACT| Capital expenditure| Capital expenditure| State and local g...|State and local g...|  174000000.00|   195754403.88|Jun-12|2023-10-31 15:33:...|\n",
      "|2011-12|         ACT|           Hospitals|   Private hospitals| Australian Govern...|Department of Vet...|   28413710.10|    34894604.09|Jun-12|2023-10-31 15:33:...|\n",
      "|2011-12|         ACT|           Hospitals|   Private hospitals| Australian Govern...|     DoHAC and other|    2329108.03|     2853160.18|Jun-12|2023-10-31 15:33:...|\n",
      "|2011-12|         ACT|           Hospitals|   Private hospitals| Australian Govern...|     Premium rebates|   33089182.56|    40636506.85|Jun-12|2023-10-31 15:33:...|\n",
      "|2011-12|         ACT|           Hospitals|   Private hospitals|       Non-government|Health insurance ...|   64370521.03|    79052817.75|Jun-12|2023-10-31 15:33:...|\n",
      "|2011-12|         ACT|           Hospitals|   Private hospitals|       Non-government|         Individuals|   14565797.10|    17888115.33|Jun-12|2023-10-31 15:33:...|\n",
      "|2011-12|         ACT|           Hospitals|   Private hospitals|       Non-government|Other source of f...|    8986949.88|    11043114.14|Jun-12|2023-10-31 15:33:...|\n",
      "|2011-12|         ACT|           Hospitals|   Private hospitals| State and local g...|State and local g...|    4734000.00|     5813779.87|Jun-12|2023-10-31 15:33:...|\n",
      "|2011-12|         ACT|           Hospitals|Public hospital s...| Australian Govern...|Department of Vet...|   22881192.17|    28100172.03|Jun-12|2023-10-31 15:33:...|\n",
      "|2011-12|         ACT|           Hospitals|Public hospital s...| Australian Govern...|     DoHAC and other|  228958987.12|   281109725.05|Jun-12|2023-10-31 15:33:...|\n",
      "|2011-12|         ACT|           Hospitals|Public hospital s...| Australian Govern...|     Premium rebates|    4022231.50|     4939663.82|Jun-12|2023-10-31 15:33:...|\n",
      "|2011-12|         ACT|           Hospitals|Public hospital s...|       Non-government|Health insurance ...|    7824706.37|     9609446.63|Jun-12|2023-10-31 15:33:...|\n",
      "|2011-12|         ACT|           Hospitals|Public hospital s...|       Non-government|         Individuals|    2833000.00|     3479180.05|Jun-12|2023-10-31 15:33:...|\n",
      "|2011-12|         ACT|           Hospitals|Public hospital s...|       Non-government|Other source of f...|    9122929.19|    11203781.59|Jun-12|2023-10-31 15:33:...|\n",
      "|2011-12|         ACT|           Hospitals|Public hospital s...| State and local g...|State and local g...|  638039565.85|   783421689.97|Jun-12|2023-10-31 15:33:...|\n",
      "|2011-12|         ACT|Medical expenses ...|Medical expenses ...| Australian Govern...|     DoHAC and other|    2313653.15|     3000706.41|Jun-12|2023-10-31 15:33:...|\n",
      "|2011-12|         ACT|Medical expenses ...|Medical expenses ...|       Non-government|         Individuals|   -2313653.15|    -3000706.41|Jun-12|2023-10-31 15:33:...|\n",
      "|2011-12|         ACT|      Other services|      Administration| Australian Govern...|Department of Vet...|   42825857.26|    55543253.88|Jun-12|2023-10-31 15:33:...|\n",
      "+-------+------------+--------------------+--------------------+---------------------+--------------------+--------------+---------------+------+--------------------+\n",
      "only showing top 20 rows\n",
      "\n"
     ]
    }
   ],
   "source": [
    "#### Step 3. Add column EOFY end of financial year, and captialise column Jurisdiction (To match with column \"Time\", and \"Jurisdiction\" from Population file)\n",
    "\n",
    "from pyspark.sql.functions import col, substring, lit, when, concat, regexp_replace, upper\n",
    "\n",
    "\n",
    "# extract the end year from financial year \n",
    "df = expnd_renamed_df.withColumn(\"yy\", lit(substring(col(\"year\"), 6, 2)) )\n",
    "# construct last month of the financial year. Drop the derived column \"yy\". And captilatise Jurisdiction values\n",
    "expenditure_eofy_df = df.withColumn(\"eofy\", concat( lit(\"Jun-\"), col(\"yy\") ) )\\\n",
    "                        .drop(\"yy\")\\\n",
    "                        .withColumn(\"jurisdiction\", upper(col(\"jurisdiction\")))\n",
    "\n",
    "# add ingestion_date\n",
    "expenditure_final_df = add_ingestion_date(expenditure_eofy_df)\n",
    "\n",
    "\n",
    "expenditure_final_df.show()"
   ]
  },
  {
   "cell_type": "code",
   "execution_count": null,
   "metadata": {},
   "outputs": [],
   "source": [
    "#### Step 3. Export the dataframe to Parquet file and store in Processed folder\n",
    "expenditure_final_df.write.mode(\"overwrite\").parquet(f\"{processed_folder_path}/expenditure\")"
   ]
  }
 ],
 "metadata": {
  "kernelspec": {
   "display_name": "Python 3",
   "language": "python",
   "name": "python3"
  },
  "language_info": {
   "codemirror_mode": {
    "name": "ipython",
    "version": 3
   },
   "file_extension": ".py",
   "mimetype": "text/x-python",
   "name": "python",
   "nbconvert_exporter": "python",
   "pygments_lexer": "ipython3",
   "version": "3.10.4"
  }
 },
 "nbformat": 4,
 "nbformat_minor": 2
}
