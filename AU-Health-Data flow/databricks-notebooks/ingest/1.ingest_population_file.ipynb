{
 "cells": [
  {
   "cell_type": "code",
   "execution_count": 4,
   "metadata": {},
   "outputs": [],
   "source": [
    "# ### Initialize a Spark session --- need when run locally\n",
    "# from pyspark.sql import SparkSession\n",
    "# spark = SparkSession.builder.appName(\"AuHealthExpnd\").getOrCreate()"
   ]
  },
  {
   "cell_type": "code",
   "execution_count": 28,
   "metadata": {},
   "outputs": [],
   "source": [
    "# Include shared notebooks\n",
    "%run \"../includes/configuration.ipynb\""
   ]
  },
  {
   "cell_type": "code",
   "execution_count": null,
   "metadata": {},
   "outputs": [],
   "source": [
    "%run \"../includes/common_functions.ipynb\""
   ]
  },
  {
   "cell_type": "code",
   "execution_count": 18,
   "metadata": {},
   "outputs": [],
   "source": [
    "#### Step 0. explore data initially\n",
    "\n",
    "population_df = df = spark.read.csv(\"/mnt/auhealthexpnd23dl/raw/au_population.csv\", header=True, inferSchema=True)\n",
    "population_df.show()"
   ]
  },
  {
   "cell_type": "code",
   "execution_count": 8,
   "metadata": {},
   "outputs": [],
   "source": [
    "#### Step 1. Define file schema and read file\n",
    "# will failed if the input file does not follow the defined schema. To prevent populating corrupted file\n",
    "\n",
    "from pyspark.sql.types import StructType, StructField, LongType, StringType\n",
    "\n",
    "population_schema = StructType(fields=[StructField(\"Time\", StringType(), False),\n",
    "                                    StructField(\"Population-New South Wales\", LongType(), False),\n",
    "                                    StructField(\"Population-Victoria\", LongType(), False),\n",
    "                                    StructField(\"Population-Queensland\", LongType(), False),\n",
    "                                    StructField(\"Population-South Australia\", LongType(), False),\n",
    "                                    StructField(\"Population-Western Australia\", LongType(), False),\n",
    "                                    StructField(\"Population-Tasmania\", LongType(), False),\n",
    "                                    StructField(\"Population-Northern Territory\", LongType(), False),\n",
    "                                    StructField(\"Population-Australian Capital Territory\", LongType(), False),\n",
    "                                    # Aus population can be nullable, as we can calculate from other columns\n",
    "                                    StructField(\"Population-Australia\", LongType(), True)\n",
    "                                    ])\n",
    "\n",
    "population_df = spark.read.schema(population_schema) \\\n",
    "    .option(\"header\", True) \\\n",
    "    .csv(\"/mnt/auhealthexpnd23dl/raw/au_population.csv\")"
   ]
  },
  {
   "cell_type": "code",
   "execution_count": 9,
   "metadata": {},
   "outputs": [
    {
     "name": "stdout",
     "output_type": "stream",
     "text": [
      "+------+--------------------------+-------------------+---------------------+--------------------------+----------------------------+-------------------+-----------------------------+---------------------------------------+--------------------+\n",
      "|  Time|Population-New South Wales|Population-Victoria|Population-Queensland|Population-South Australia|Population-Western Australia|Population-Tasmania|Population-Northern Territory|Population-Australian Capital Territory|Population-Australia|\n",
      "+------+--------------------------+-------------------+---------------------+--------------------------+----------------------------+-------------------+-----------------------------+---------------------------------------+--------------------+\n",
      "|Jun-81|                   5234889|            3946917|              2345208|                   1318769|                     1300056|             427224|                       122616|                                 227581|            14923260|\n",
      "|Sep-81|                   5249455|            3957333|              2367477|                   1321235|                     1311284|             427925|                       125186|                                 228782|            14988677|\n",
      "|Dec-81|                   5266894|            3968398|              2387943|                   1325176|                     1320221|             428283|                       127718|                                 229484|            15054117|\n",
      "|Mar-82|                   5286119|            3980826|              2406355|                   1328670|                     1329700|             429445|                       129593|                                 230990|            15121698|\n",
      "|Jun-82|                   5303580|            3992870|              2424586|                   1331108|                     1338899|             429845|                       130314|                                 233045|            15184247|\n",
      "|Sep-82|                   5315846|            4002731|              2442912|                   1334090|                     1348096|             430308|                       131517|                                 233778|            15239278|\n",
      "|Dec-82|                   5328221|            4012687|              2456475|                   1337783|                     1354971|             430974|                       132784|                                 234996|            15288891|\n",
      "|Mar-83|                   5344027|            4025254|              2469709|                   1342193|                     1361874|             431665|                       134529|                                 236991|            15346242|\n",
      "|Jun-83|                   5352959|            4035702|              2482282|                   1345775|                     1369050|             432805|                       135916|                                 238983|            15393472|\n",
      "|Sep-83|                   5363744|            4045185|              2493373|                   1349553|                     1375244|             433909|                       137942|                                 240055|            15439005|\n",
      "|Dec-83|                   5374915|            4054498|              2503285|                   1353208|                     1381011|             435100|                       139519|                                 241960|            15483496|\n",
      "|Mar-84|                   5389180|            4066209|              2513443|                   1356511|                     1385878|             436178|                       140666|                                 243476|            15531541|\n",
      "|Jun-84|                   5402729|            4076492|              2523859|                   1360048|                     1391237|             437760|                       142154|                                 245112|            15579391|\n",
      "|Sep-84|                   5416536|            4086549|              2535976|                   1362611|                     1397817|             438866|                       143934|                                 246259|            15628548|\n",
      "|Dec-84|                   5431752|            4097640|              2547078|                   1365333|                     1403032|             440070|                       145293|                                 247084|            15677282|\n",
      "|Mar-85|                   5451549|            4109741|              2559452|                   1368721|                     1410377|             441324|                       146662|                                 248839|            15736665|\n",
      "|Jun-85|                   5464512|            4120068|              2571218|                   1371197|                     1418564|             442828|                       148536|                                 251389|            15788312|\n",
      "|Sep-85|                   5478254|            4129796|              2583368|                   1373324|                     1427370|             443548|                       150596|                                 253446|            15839702|\n",
      "|Dec-85|                   5496467|            4140421|              2597100|                   1376838|                     1436900|             444576|                       152356|                                 255908|            15900566|\n",
      "|Mar-86|                   5516377|            4151053|              2610205|                   1380317|                     1447254|             445723|                       153284|                                 257285|            15961498|\n",
      "+------+--------------------------+-------------------+---------------------+--------------------------+----------------------------+-------------------+-----------------------------+---------------------------------------+--------------------+\n",
      "only showing top 20 rows\n",
      "\n"
     ]
    }
   ],
   "source": [
    "population_df.show()"
   ]
  },
  {
   "cell_type": "code",
   "execution_count": 10,
   "metadata": {},
   "outputs": [
    {
     "name": "stdout",
     "output_type": "stream",
     "text": [
      "+------+--------------------------+-------------------+---------------------+--------------------------+----------------------------+-------------------+-----------------------------+---------------------------------------+--------------------+\n",
      "|  Time|Population-New South Wales|Population-Victoria|Population-Queensland|Population-South Australia|Population-Western Australia|Population-Tasmania|Population-Northern Territory|Population-Australian Capital Territory|Population-Australia|\n",
      "+------+--------------------------+-------------------+---------------------+--------------------------+----------------------------+-------------------+-----------------------------+---------------------------------------+--------------------+\n",
      "|Jun-11|                   7218529|            5537817|              4476778|                   1639614|                     2353409|             511483|                       231292|                                 367985|            22340024|\n",
      "|Jun-12|                   7304244|            5651091|              4568687|                   1656725|                     2425507|             511724|                       235915|                                 376539|            22733465|\n",
      "|Jun-13|                   7404032|            5772669|              4652824|                   1671488|                     2486944|             512231|                       241722|                                 383257|            23128129|\n",
      "|Jun-14|                   7508353|            5894917|              4719653|                   1686945|                     2517608|             513621|                       242894|                                 388799|            23475686|\n",
      "|Jun-15|                   7616168|            6022322|              4777692|                   1700668|                     2540672|             515117|                       244692|                                 395813|            23815995|\n",
      "|Jun-16|                   7732858|            6173172|              4845152|                   1712843|                     2555978|             517514|                       245678|                                 403104|            24190907|\n",
      "|Jun-17|                   7855316|            6302608|              4926380|                   1728673|                     2585720|             526762|                       247412|                                 415046|            24592588|\n",
      "|Jun-18|                   7954476|            6423038|              5006623|                   1746137|                     2617792|             537291|                       247095|                                 426081|            24963258|\n",
      "|Jun-19|                   8046748|            6537305|              5088847|                   1767395|                     2659625|             547841|                       246559|                                 435730|            25334826|\n",
      "|Jun-21|                   8097062|            6547822|              5215814|                   1802601|                     2749365|             567239|                       248151|                                 452508|            25685412|\n",
      "|Jun-22|                   8166525|            6630258|              5320711|                   1821086|                     2791432|             571007|                       250233|                                 456889|            26013061|\n",
      "+------+--------------------------+-------------------+---------------------+--------------------------+----------------------------+-------------------+-----------------------------+---------------------------------------+--------------------+\n",
      "\n"
     ]
    }
   ],
   "source": [
    "#### Step 2. Filter rows from 2011 onwards to 2059\n",
    "from pyspark.sql.functions import col\n",
    "\n",
    "# only need data in Jun (end of financial year), from 2011. Limit to 2059 for regex, as Jun-94 is Jun 1984 not 2094\n",
    "pattern = \"^(Jun)-([1-5][1-9])$\"\n",
    "\n",
    "population_filtered_df = df.filter(col(\"Time\").rlike(pattern))\n",
    "\n",
    "population_filtered_df.show()"
   ]
  },
  {
   "cell_type": "code",
   "execution_count": 29,
   "metadata": {},
   "outputs": [],
   "source": [
    "#### Step 3. Rename columns\n",
    "population_renamed_df = population_filtered_df.withColumnRenamed(\"Population-New South Wales\", \"NSW\") \\\n",
    "    .withColumnRenamed(\"Population-Victoria\", \"VIC\") \\\n",
    "    .withColumnRenamed(\"Population-Queensland\", \"QLD\") \\\n",
    "    .withColumnRenamed(\"Population-South Australia\", \"SA\") \\\n",
    "    .withColumnRenamed(\"Population-Western Australia\", \"WA\") \\\n",
    "    .withColumnRenamed(\"Population-Tasmania\", \"TAS\") \\\n",
    "    .withColumnRenamed(\"Population-Northern Territory\", \"NT\") \\\n",
    "    .withColumnRenamed(\"Population-Australian Capital Territory\", \"ACT\") \\\n",
    "    .withColumnRenamed(\"Population-Australia\", \"AU\") \\\n",
    "    .withColumnRenamed(\"Time\", \"time\")"
   ]
  },
  {
   "cell_type": "code",
   "execution_count": 30,
   "metadata": {},
   "outputs": [
    {
     "name": "stdout",
     "output_type": "stream",
     "text": [
      "+------+-------+-------+-------+-------+-------+------+------+------+--------+\n",
      "|  time|    NSW|    VIC|    QLD|     SA|     WA|   TAS|    NT|   ACT|      AU|\n",
      "+------+-------+-------+-------+-------+-------+------+------+------+--------+\n",
      "|Jun-11|7218529|5537817|4476778|1639614|2353409|511483|231292|367985|22340024|\n",
      "|Jun-12|7304244|5651091|4568687|1656725|2425507|511724|235915|376539|22733465|\n",
      "|Jun-13|7404032|5772669|4652824|1671488|2486944|512231|241722|383257|23128129|\n",
      "|Jun-14|7508353|5894917|4719653|1686945|2517608|513621|242894|388799|23475686|\n",
      "|Jun-15|7616168|6022322|4777692|1700668|2540672|515117|244692|395813|23815995|\n",
      "|Jun-16|7732858|6173172|4845152|1712843|2555978|517514|245678|403104|24190907|\n",
      "|Jun-17|7855316|6302608|4926380|1728673|2585720|526762|247412|415046|24592588|\n",
      "|Jun-18|7954476|6423038|5006623|1746137|2617792|537291|247095|426081|24963258|\n",
      "|Jun-19|8046748|6537305|5088847|1767395|2659625|547841|246559|435730|25334826|\n",
      "|Jun-21|8097062|6547822|5215814|1802601|2749365|567239|248151|452508|25685412|\n",
      "|Jun-22|8166525|6630258|5320711|1821086|2791432|571007|250233|456889|26013061|\n",
      "+------+-------+-------+-------+-------+-------+------+------+------+--------+\n",
      "\n"
     ]
    }
   ],
   "source": [
    "population_renamed_df.show()"
   ]
  },
  {
   "cell_type": "code",
   "execution_count": 31,
   "metadata": {},
   "outputs": [
    {
     "name": "stdout",
     "output_type": "stream",
     "text": [
      "+------+------------+----------+--------------------+\n",
      "|  time|jurisdiction|population|      ingestion_date|\n",
      "+------+------------+----------+--------------------+\n",
      "|Jun-11|         NSW|   7218529|2023-10-31 15:36:...|\n",
      "|Jun-11|         VIC|   5537817|2023-10-31 15:36:...|\n",
      "|Jun-11|         QLD|   4476778|2023-10-31 15:36:...|\n",
      "|Jun-11|          SA|   1639614|2023-10-31 15:36:...|\n",
      "|Jun-11|          WA|   2353409|2023-10-31 15:36:...|\n",
      "|Jun-11|         TAS|    511483|2023-10-31 15:36:...|\n",
      "|Jun-11|          NT|    231292|2023-10-31 15:36:...|\n",
      "|Jun-11|         ACT|    367985|2023-10-31 15:36:...|\n",
      "|Jun-11|          AU|  22340024|2023-10-31 15:36:...|\n",
      "|Jun-12|         NSW|   7304244|2023-10-31 15:36:...|\n",
      "|Jun-12|         VIC|   5651091|2023-10-31 15:36:...|\n",
      "|Jun-12|         QLD|   4568687|2023-10-31 15:36:...|\n",
      "|Jun-12|          SA|   1656725|2023-10-31 15:36:...|\n",
      "|Jun-12|          WA|   2425507|2023-10-31 15:36:...|\n",
      "|Jun-12|         TAS|    511724|2023-10-31 15:36:...|\n",
      "|Jun-12|          NT|    235915|2023-10-31 15:36:...|\n",
      "|Jun-12|         ACT|    376539|2023-10-31 15:36:...|\n",
      "|Jun-12|          AU|  22733465|2023-10-31 15:36:...|\n",
      "|Jun-13|         NSW|   7404032|2023-10-31 15:36:...|\n",
      "|Jun-13|         VIC|   5772669|2023-10-31 15:36:...|\n",
      "+------+------------+----------+--------------------+\n",
      "only showing top 20 rows\n",
      "\n"
     ]
    }
   ],
   "source": [
    "#### Step 4. Unpivot, convert df to 3 columns only (Time, Jurisdiction, Population). And add ingestion_date column\n",
    "population_unpivot_df = population_renamed_df.unpivot(\"time\", [\"NSW\", \"VIC\", \"QLD\", \"SA\", \"WA\", \"TAS\", \"NT\", \"ACT\", \"AU\"], \"jurisdiction\", \"population\")\n",
    "population_final_df = add_ingestion_date(population_unpivot_df)\n",
    "population_final_df.show()"
   ]
  },
  {
   "cell_type": "code",
   "execution_count": null,
   "metadata": {},
   "outputs": [],
   "source": [
    "#### Step 5. Save to Parquet file and store in Processed folder\n",
    "population_final_df.write.mode(\"overwrite\").parquet(f\"{processed_folder_path}/population\")"
   ]
  },
  {
   "cell_type": "code",
   "execution_count": null,
   "metadata": {},
   "outputs": [],
   "source": []
  },
  {
   "cell_type": "code",
   "execution_count": null,
   "metadata": {},
   "outputs": [],
   "source": []
  },
  {
   "cell_type": "code",
   "execution_count": null,
   "metadata": {},
   "outputs": [],
   "source": []
  }
 ],
 "metadata": {
  "kernelspec": {
   "display_name": "Python 3",
   "language": "python",
   "name": "python3"
  },
  "language_info": {
   "codemirror_mode": {
    "name": "ipython",
    "version": 3
   },
   "file_extension": ".py",
   "mimetype": "text/x-python",
   "name": "python",
   "nbconvert_exporter": "python",
   "pygments_lexer": "ipython3",
   "version": "3.10.4"
  }
 },
 "nbformat": 4,
 "nbformat_minor": 2
}
