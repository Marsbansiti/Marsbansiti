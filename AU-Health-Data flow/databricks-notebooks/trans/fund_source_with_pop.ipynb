{
 "cells": [
  {
   "cell_type": "code",
   "execution_count": null,
   "metadata": {},
   "outputs": [],
   "source": [
    "# Include shared notebooks\n",
    "%run \"../includes/configuration.ipynb\""
   ]
  },
  {
   "cell_type": "code",
   "execution_count": null,
   "metadata": {},
   "outputs": [],
   "source": [
    "%run \"../includes/common_functions.ipynb\""
   ]
  },
  {
   "cell_type": "code",
   "execution_count": null,
   "metadata": {},
   "outputs": [],
   "source": [
    "# rename to differentiate columns from population file\n",
    "expnd_df = spark.read.format(\"parquet\").load(f\"{processed_folder_path}/expenditure\") \\\n",
    ".withColumnRenamed(\"eofy\", \"end_of_fy\") \\\n",
    ".withColumnRenamed(\"jurisdiction\", \"expnd_jurisdiction\")"
   ]
  },
  {
   "cell_type": "code",
   "execution_count": null,
   "metadata": {},
   "outputs": [],
   "source": [
    "# aggregate by year, state, and source_of_funds\n",
    "from pyspark.sql.functions import sum\n",
    "\n",
    "fund_source_df = expnd_df \\\n",
    "    .groupBy(\"year\", \"expnd_jurisdiction\", \"source_of_funds\", \"end_of_fy\") \\\n",
    "    .agg(sum(\"current_amount\").alias(\"total_amount\"))"
   ]
  },
  {
   "cell_type": "code",
   "execution_count": null,
   "metadata": {},
   "outputs": [],
   "source": [
    "# load population file with selected columns\n",
    "pop_df = spark.read.format(\"parquet\").load(f\"{processed_folder_path}/population\") \\\n",
    ".withColumnRenamed(\"jurisdiction\", \"pop_jurisdiction\")"
   ]
  },
  {
   "cell_type": "code",
   "execution_count": null,
   "metadata": {},
   "outputs": [],
   "source": [
    "# join dfs\n",
    "join_condition = [ fund_source_df.end_of_fy == pop_df.Time, fund_source_df.expnd_jurisdiction == pop_df.pop_jurisdiction ]\n",
    "fund_source_with_pop_df = fund_source_df.join(pop_df, join_condition)"
   ]
  },
  {
   "cell_type": "code",
   "execution_count": null,
   "metadata": {},
   "outputs": [],
   "source": [
    "# add calculated column amount_per_person, and created_date column\n",
    "from pyspark.sql.functions import current_timestamp, expr\n",
    "\n",
    "final_df = fund_source_with_pop_df \\\n",
    "                .withColumn(\"amount_per_person\", expr(\"total_amount / population\")) \\\n",
    "                .withColumn(\"created_date\", current_timestamp())\n",
    "\n",
    "final_df.show()"
   ]
  },
  {
   "cell_type": "code",
   "execution_count": null,
   "metadata": {},
   "outputs": [],
   "source": [
    "### write to Managed Tables (for sql users to use), and still have parquet file (for spark users)\n",
    "# location defined when create the database \n",
    "final_df.write.mode(\"overwrite\").format(\"parquet\").saveAsTable(\"au_health_expnd_db.fund_source_with_pop\")\n",
    "\n",
    "# ### write the result to Parquet file only in presentation layer\n",
    "# final_df.write.mode(\"overwrite\").parquet(f\"{presentation_folder_path}/fund_source_with_pop\")"
   ]
  },
  {
   "cell_type": "code",
   "execution_count": null,
   "metadata": {},
   "outputs": [],
   "source": [
    "%sql\n",
    "### Check table data\n",
    "SHOW TABLES IN au_health_expnd_db;"
   ]
  },
  {
   "cell_type": "code",
   "execution_count": null,
   "metadata": {},
   "outputs": [],
   "source": [
    "%sql\n",
    "SELECT * \n",
    "FROM au_health_expnd_db.fund_source_with_pop\n",
    "LIMIT 20;"
   ]
  }
 ],
 "metadata": {
  "kernelspec": {
   "display_name": "Python 3",
   "language": "python",
   "name": "python3"
  },
  "language_info": {
   "codemirror_mode": {
    "name": "ipython",
    "version": 3
   },
   "file_extension": ".py",
   "mimetype": "text/x-python",
   "name": "python",
   "nbconvert_exporter": "python",
   "pygments_lexer": "ipython3",
   "version": "3.10.4"
  }
 },
 "nbformat": 4,
 "nbformat_minor": 2
}
