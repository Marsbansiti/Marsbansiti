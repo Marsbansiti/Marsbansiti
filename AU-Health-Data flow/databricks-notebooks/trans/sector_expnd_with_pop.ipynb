{
 "cells": [
  {
   "cell_type": "code",
   "execution_count": null,
   "metadata": {},
   "outputs": [],
   "source": [
    "# Include shared notebooks\n",
    "%run \"../includes/configuration.ipynb\""
   ]
  },
  {
   "cell_type": "code",
   "execution_count": null,
   "metadata": {},
   "outputs": [],
   "source": [
    "%run \"../includes/common_functions.ipynb\""
   ]
  },
  {
   "cell_type": "code",
   "execution_count": null,
   "metadata": {},
   "outputs": [],
   "source": [
    "# rename to differentiate columns from population file\n",
    "expnd_df = spark.read.format(\"parquet\").load(f\"{processed_folder_path}/expenditure\") \\\n",
    ".withColumnRenamed(\"eofy\", \"end_of_fy\") \\\n",
    ".withColumnRenamed(\"jurisdiction\", \"expnd_jurisdiction\")"
   ]
  },
  {
   "cell_type": "code",
   "execution_count": null,
   "metadata": {},
   "outputs": [],
   "source": [
    "# aggregate by year, state, and sector\n",
    "from pyspark.sql.functions import sum\n",
    "\n",
    "sector_expnd_df = expnd_df \\\n",
    "    .groupBy(\"year\", \"expnd_jurisdiction\", \"sector\", \"end_of_fy\") \\\n",
    "    .agg(sum(\"current_amount\").alias(\"total_amount\"))"
   ]
  },
  {
   "cell_type": "code",
   "execution_count": null,
   "metadata": {},
   "outputs": [],
   "source": [
    "# load population file with selected columns\n",
    "pop_df = spark.read.format(\"parquet\").load(f\"{processed_folder_path}/population\") \\\n",
    ".withColumnRenamed(\"jurisdiction\", \"pop_jurisdiction\")"
   ]
  },
  {
   "cell_type": "code",
   "execution_count": null,
   "metadata": {},
   "outputs": [],
   "source": [
    "# join dfs\n",
    "join_condition = [ sector_expnd_df.end_of_fy == pop_df.Time, sector_expnd_df.expnd_jurisdiction == pop_df.pop_jurisdiction ]\n",
    "\n",
    "sector_expnd_with_pop_df = sector_expnd_df.join(pop_df, join_condition)"
   ]
  },
  {
   "cell_type": "code",
   "execution_count": null,
   "metadata": {},
   "outputs": [],
   "source": [
    "# add calculated column amount_per_person, and created_date column\n",
    "from pyspark.sql.functions import current_timestamp, expr\n",
    "\n",
    "final_df = sector_expnd_with_pop_df \\\n",
    "                .withColumn(\"amount_per_person\", expr(\"total_amount / population\")) \\\n",
    "                .withColumn(\"created_date\", current_timestamp())\n",
    "\n",
    "final_df.show()"
   ]
  },
  {
   "cell_type": "code",
   "execution_count": null,
   "metadata": {},
   "outputs": [],
   "source": [
    "### write to Managed Tables (for sql users to use), and still have parquet file (for spark users)\n",
    "# location defined when create the database\n",
    "final_df.write.mode(\"overwrite\").format(\"parquet\").saveAsTable(\"au_health_expnd_db.sector_expnd_with_pop\")\n",
    "\n",
    "\n",
    "# ### write the result to Parquet file only in presentation layer\n",
    "# final_df.write.mode(\"overwrite\").parquet(f\"{presentation_folder_path}/sector_expnd_with_pop\""
   ]
  },
  {
   "cell_type": "code",
   "execution_count": null,
   "metadata": {},
   "outputs": [],
   "source": [
    "%sql\n",
    "SHOW TABLES IN au_health_expnd_db"
   ]
  },
  {
   "cell_type": "code",
   "execution_count": null,
   "metadata": {},
   "outputs": [],
   "source": [
    "%sql\n",
    "SELECT * \n",
    "FROM au_health_expnd_db.sector_expnd_with_pop\n",
    "LIMIT 20;"
   ]
  }
 ],
 "metadata": {
  "language_info": {
   "name": "python"
  }
 },
 "nbformat": 4,
 "nbformat_minor": 2
}
