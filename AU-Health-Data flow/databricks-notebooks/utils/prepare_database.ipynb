{
 "cells": [
  {
   "cell_type": "code",
   "execution_count": null,
   "metadata": {},
   "outputs": [],
   "source": [
    "%sql\n",
    "DROP DATABASE IF EXISTS au_health_expnd_db CASCADE;\n",
    "\n",
    "### specify location: if not, will be in databricks default location (dbfs:/user/hive/datawarehouse)\n",
    "CREATE DATABASE IF NOT EXISTS au_health_expnd_db \n",
    "LOCATION \"/mnt/auhealthexpnd23dl/presentation\";   "
   ]
  },
  {
   "cell_type": "code",
   "execution_count": null,
   "metadata": {},
   "outputs": [],
   "source": [
    "%sql\n",
    "SHOW DATABASES;"
   ]
  },
  {
   "cell_type": "code",
   "execution_count": null,
   "metadata": {},
   "outputs": [],
   "source": [
    "%sql\n",
    "DESCRIBE DATABASE au_health_expnd_db"
   ]
  }
 ],
 "metadata": {
  "language_info": {
   "name": "python"
  }
 },
 "nbformat": 4,
 "nbformat_minor": 2
}
